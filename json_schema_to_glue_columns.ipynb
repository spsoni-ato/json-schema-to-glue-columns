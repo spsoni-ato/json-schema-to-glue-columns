{
 "cells": [
  {
   "cell_type": "code",
   "execution_count": 1,
   "metadata": {},
   "outputs": [],
   "source": [
    "import json\n",
    "from json_schema_to_glue_columns import *"
   ]
  },
  {
   "cell_type": "code",
   "execution_count": 2,
   "metadata": {},
   "outputs": [],
   "source": [
    "schema_location_1 = \"./sample1.schema.json\"\n",
    "schema_location_2 = \"./sample2.schema.json\"\n",
    "schema_location_3 = \"./sample3.schema.json\""
   ]
  },
  {
   "cell_type": "code",
   "execution_count": 3,
   "metadata": {},
   "outputs": [],
   "source": [
    "with open(schema_location_1) as schema_file_1:\n",
    "    schema_1 = json.load(schema_file_1)\n",
    "\n",
    "with open(schema_location_2) as schema_file_2:\n",
    "    schema_2 = json.load(schema_file_2)\n",
    "\n",
    "with open(schema_location_3) as schema_file_3:\n",
    "    schema_3 = json.load(schema_file_3)"
   ]
  },
  {
   "cell_type": "code",
   "execution_count": 4,
   "metadata": {},
   "outputs": [
    {
     "data": {
      "text/plain": [
       "[{'Name': 'id', 'Type': 'DOUBLE'},\n",
       " {'Name': 'isbn', 'Type': 'STRING'},\n",
       " {'Name': 'author', 'Type': 'STRUCT<lastname:STRING,firstname:STRING>'},\n",
       " {'Name': 'editor', 'Type': 'STRUCT<lastname:STRING,firstname:STRING>'},\n",
       " {'Name': 'title', 'Type': 'STRING'},\n",
       " {'Name': 'category', 'Type': 'ARRAY<STRING>'},\n",
       " {'Name': 'tags', 'Type': 'ARRAY<STRUCT<key:STRING,value:STRING>>'}]"
      ]
     },
     "execution_count": 4,
     "metadata": {},
     "output_type": "execute_result"
    }
   ],
   "source": [
    "convert_json_schema_to_glue_columns(schema_1)"
   ]
  },
  {
   "cell_type": "code",
   "execution_count": 5,
   "metadata": {},
   "outputs": [
    {
     "data": {
      "text/plain": [
       "[{'Name': 'id', 'Type': 'DOUBLE'},\n",
       " {'Name': 'isbn', 'Type': 'STRING'},\n",
       " {'Name': 'author__lastname', 'Type': 'STRING'},\n",
       " {'Name': 'author__firstname', 'Type': 'STRING'},\n",
       " {'Name': 'editor__lastname', 'Type': 'STRING'},\n",
       " {'Name': 'editor__firstname', 'Type': 'STRING'},\n",
       " {'Name': 'title', 'Type': 'STRING'},\n",
       " {'Name': 'category', 'Type': 'ARRAY<STRING>'},\n",
       " {'Name': 'tags', 'Type': 'ARRAY<STRUCT<key:STRING,value:STRING>>'}]"
      ]
     },
     "execution_count": 5,
     "metadata": {},
     "output_type": "execute_result"
    }
   ],
   "source": [
    "convert_json_schema_to_glue_columns(schema_1, flatten=True, delimiter='__')"
   ]
  },
  {
   "cell_type": "code",
   "execution_count": 6,
   "metadata": {},
   "outputs": [
    {
     "data": {
      "text/plain": [
       "[{'Name': 'a', 'Type': 'STRING'},\n",
       " {'Name': 'b', 'Type': 'BIGINT'},\n",
       " {'Name': 'c', 'Type': 'DOUBLE'},\n",
       " {'Name': 'd', 'Type': 'BOOLEAN'},\n",
       " {'Name': 'e', 'Type': 'ARRAY<BIGINT>'},\n",
       " {'Name': 'f',\n",
       "  'Type': 'STRUCT<fa:STRING,fb:BIGINT,fc:DOUBLE,fd:BOOLEAN,fe:ARRAY<STRING>,ff:STRUCT<ffa:ARRAY<STRUCT<fffa:BIGINT,fffb:STRING>>>>'},\n",
       " {'Name': 'g', 'Type': 'ARRAY<STRUCT<ga:BIGINT,gb:ARRAY<BIGINT>>>'}]"
      ]
     },
     "execution_count": 6,
     "metadata": {},
     "output_type": "execute_result"
    }
   ],
   "source": [
    "convert_json_schema_to_glue_columns(schema_2)"
   ]
  },
  {
   "cell_type": "code",
   "execution_count": 7,
   "metadata": {},
   "outputs": [
    {
     "data": {
      "text/plain": [
       "[{'Name': 'a', 'Type': 'STRING'},\n",
       " {'Name': 'b', 'Type': 'BIGINT'},\n",
       " {'Name': 'c', 'Type': 'DOUBLE'},\n",
       " {'Name': 'd', 'Type': 'BOOLEAN'},\n",
       " {'Name': 'e', 'Type': 'ARRAY<BIGINT>'},\n",
       " {'Name': 'f__fa', 'Type': 'STRING'},\n",
       " {'Name': 'f__fb', 'Type': 'BIGINT'},\n",
       " {'Name': 'f__fc', 'Type': 'DOUBLE'},\n",
       " {'Name': 'f__fd', 'Type': 'BOOLEAN'},\n",
       " {'Name': 'f__fe', 'Type': 'ARRAY<STRING>'},\n",
       " {'Name': 'f__ff__ffa', 'Type': 'ARRAY<STRUCT<fffa:BIGINT,fffb:STRING>>'},\n",
       " {'Name': 'g', 'Type': 'ARRAY<STRUCT<ga:BIGINT,gb:ARRAY<BIGINT>>>'}]"
      ]
     },
     "execution_count": 7,
     "metadata": {},
     "output_type": "execute_result"
    }
   ],
   "source": [
    "convert_json_schema_to_glue_columns(schema_2, flatten=True, delimiter='__')"
   ]
  },
  {
   "cell_type": "code",
   "execution_count": 6,
   "metadata": {},
   "outputs": [
    {
     "ename": "Exception",
     "evalue": "Empty arrays are not allowed in Glue",
     "output_type": "error",
     "traceback": [
      "\u001b[0;31m---------------------------------------------------------------------------\u001b[0m",
      "\u001b[0;31mException\u001b[0m                                 Traceback (most recent call last)",
      "Cell \u001b[0;32mIn[6], line 1\u001b[0m\n\u001b[0;32m----> 1\u001b[0m convert_json_schema_to_glue_columns(schema_3)\n",
      "File \u001b[0;32m~/Desktop/schema_upload/json_schema_to_glue_columns.py:63\u001b[0m, in \u001b[0;36mconvert_json_schema_to_glue_columns\u001b[0;34m(json_schema)\u001b[0m\n\u001b[1;32m     59\u001b[0m \u001b[39m# Convert each property of the JSON schema to a Glue column\u001b[39;00m\n\u001b[1;32m     60\u001b[0m \u001b[39mfor\u001b[39;00m key, value \u001b[39min\u001b[39;00m json_schema[\u001b[39m\"\u001b[39m\u001b[39mproperties\u001b[39m\u001b[39m\"\u001b[39m]\u001b[39m.\u001b[39mitems():\n\u001b[1;32m     61\u001b[0m     column \u001b[39m=\u001b[39m {\n\u001b[1;32m     62\u001b[0m         \u001b[39m\"\u001b[39m\u001b[39mName\u001b[39m\u001b[39m\"\u001b[39m: key,\n\u001b[0;32m---> 63\u001b[0m         \u001b[39m\"\u001b[39m\u001b[39mType\u001b[39m\u001b[39m\"\u001b[39m: glue_column_type_from_json_schema(value)\n\u001b[1;32m     64\u001b[0m     }\n\u001b[1;32m     66\u001b[0m     columns\u001b[39m.\u001b[39mappend(column)\n\u001b[1;32m     68\u001b[0m \u001b[39mreturn\u001b[39;00m columns\n",
      "File \u001b[0;32m~/Desktop/schema_upload/json_schema_to_glue_columns.py:38\u001b[0m, in \u001b[0;36mglue_column_type_from_json_schema\u001b[0;34m(value)\u001b[0m\n\u001b[1;32m     35\u001b[0m items \u001b[39m=\u001b[39m value[\u001b[39m\"\u001b[39m\u001b[39mitems\u001b[39m\u001b[39m\"\u001b[39m]\n\u001b[1;32m     37\u001b[0m \u001b[39mif\u001b[39;00m \u001b[39mlen\u001b[39m(items) \u001b[39m==\u001b[39m \u001b[39m0\u001b[39m:\n\u001b[0;32m---> 38\u001b[0m     \u001b[39mraise\u001b[39;00m \u001b[39mException\u001b[39;00m(\u001b[39m\"\u001b[39m\u001b[39mEmpty arrays are not allowed in Glue\u001b[39m\u001b[39m\"\u001b[39m)\n\u001b[1;32m     40\u001b[0m \u001b[39mif\u001b[39;00m items[\u001b[39m\"\u001b[39m\u001b[39mtype\u001b[39m\u001b[39m\"\u001b[39m] \u001b[39m==\u001b[39m \u001b[39m\"\u001b[39m\u001b[39marray\u001b[39m\u001b[39m\"\u001b[39m:\n\u001b[1;32m     41\u001b[0m     \u001b[39mreturn\u001b[39;00m \u001b[39mf\u001b[39m\u001b[39m\"\u001b[39m\u001b[39mARRAY<\u001b[39m\u001b[39m{\u001b[39;00mglue_column_type_from_json_schema(items)\u001b[39m}\u001b[39;00m\u001b[39m>[]\u001b[39m\u001b[39m\"\u001b[39m\n",
      "\u001b[0;31mException\u001b[0m: Empty arrays are not allowed in Glue"
     ]
    }
   ],
   "source": [
    "convert_json_schema_to_glue_columns(schema_3)"
   ]
  },
  {
   "cell_type": "code",
   "execution_count": 6,
   "metadata": {},
   "outputs": [],
   "source": [
    "def flatten_json_schema(json_schema, prefix='', delimiter='_'):\n",
    "    \"\"\"\n",
    "    Flattens a JSON schema by unwrapping nested structs and creating flattened property names.\n",
    "\n",
    "    Args:\n",
    "        json_schema (dict): The JSON schema.\n",
    "        prefix (str): Prefix for the flattened property names (used for recursion).\n",
    "        delimiter (str): Delimiter to separate flattened property names.\n",
    "\n",
    "    Returns:\n",
    "        dict: The flattened JSON schema.\n",
    "    \"\"\"\n",
    "    flattened_schema = {}\n",
    "\n",
    "    for key, value in json_schema[\"properties\"].items():\n",
    "        if value[\"type\"] == \"object\":\n",
    "            # Flatten the nested struct recursively\n",
    "            flattened_properties = flatten_json_schema(value, prefix=f\"{prefix}{key}{delimiter}\", delimiter=delimiter)\n",
    "            flattened_schema.update(flattened_properties)\n",
    "        else:\n",
    "            # Create the flattened property name\n",
    "            flattened_key = f\"{prefix}{key}\"\n",
    "            flattened_schema[flattened_key] = value\n",
    "\n",
    "    return flattened_schema"
   ]
  },
  {
   "cell_type": "code",
   "execution_count": 7,
   "metadata": {},
   "outputs": [
    {
     "data": {
      "text/plain": [
       "{'a': {'type': 'string',\n",
       "  'default': '',\n",
       "  'title': 'The a Schema',\n",
       "  'examples': ['some_string']},\n",
       " 'b': {'type': 'integer',\n",
       "  'default': 0,\n",
       "  'title': 'The b Schema',\n",
       "  'examples': [1]},\n",
       " 'c': {'type': 'number',\n",
       "  'default': 0.0,\n",
       "  'title': 'The c Schema',\n",
       "  'examples': [3.14]},\n",
       " 'd': {'type': 'boolean',\n",
       "  'default': False,\n",
       "  'title': 'The d Schema',\n",
       "  'examples': [True]},\n",
       " 'e': {'type': 'array',\n",
       "  'default': [],\n",
       "  'title': 'The e Schema',\n",
       "  'items': {'type': 'integer', 'title': 'A Schema', 'examples': [1, 2, 3]},\n",
       "  'examples': [[1, 2, 3]]},\n",
       " 'f_fa': {'type': 'string',\n",
       "  'default': '',\n",
       "  'title': 'The fa Schema',\n",
       "  'examples': ['some_other_string']},\n",
       " 'f_fb': {'type': 'integer',\n",
       "  'default': 0,\n",
       "  'title': 'The fb Schema',\n",
       "  'examples': [2]},\n",
       " 'f_fc': {'type': 'number',\n",
       "  'default': 0.0,\n",
       "  'title': 'The fc Schema',\n",
       "  'examples': [4.25]},\n",
       " 'f_fd': {'type': 'boolean',\n",
       "  'default': False,\n",
       "  'title': 'The fd Schema',\n",
       "  'examples': [False]},\n",
       " 'f_fe': {'type': 'array',\n",
       "  'default': [],\n",
       "  'title': 'The fe Schema',\n",
       "  'items': {'type': 'string',\n",
       "   'title': 'A Schema',\n",
       "   'examples': ['x', 'y', 'z']},\n",
       "  'examples': [['x', 'y', 'z']]},\n",
       " 'f_ff_ffa': {'type': 'array',\n",
       "  'default': [],\n",
       "  'title': 'The ffa Schema',\n",
       "  'items': {'type': 'object',\n",
       "   'title': 'A Schema',\n",
       "   'required': ['fffa', 'fffb'],\n",
       "   'properties': {'fffa': {'type': 'integer',\n",
       "     'title': 'The fffa Schema',\n",
       "     'examples': [1, 2]},\n",
       "    'fffb': {'type': 'string',\n",
       "     'title': 'The fffb Schema',\n",
       "     'examples': ['x', 'y']}},\n",
       "   'examples': [{'fffa': 1, 'fffb': 'x'}, {'fffa': 2, 'fffb': 'y'}]},\n",
       "  'examples': [[{'fffa': 1, 'fffb': 'x'}, {'fffa': 2, 'fffb': 'y'}]]},\n",
       " 'g': {'type': 'array',\n",
       "  'default': [],\n",
       "  'title': 'The g Schema',\n",
       "  'items': {'type': 'object',\n",
       "   'title': 'A Schema',\n",
       "   'required': ['ga', 'gb'],\n",
       "   'properties': {'ga': {'type': 'integer',\n",
       "     'title': 'The ga Schema',\n",
       "     'examples': [1, 2]},\n",
       "    'gb': {'type': 'array',\n",
       "     'title': 'The gb Schema',\n",
       "     'items': {'type': 'integer',\n",
       "      'title': 'A Schema',\n",
       "      'examples': [1, 2, 3, 4]},\n",
       "     'examples': [[1, 2, 3], [2, 3, 4]]}},\n",
       "   'examples': [{'ga': 1, 'gb': [1, 2, 3]}, {'ga': 2, 'gb': [2, 3, 4]}]},\n",
       "  'examples': [[{'ga': 1, 'gb': [1, 2, 3]}, {'ga': 2, 'gb': [2, 3, 4]}]]}}"
      ]
     },
     "execution_count": 7,
     "metadata": {},
     "output_type": "execute_result"
    }
   ],
   "source": [
    "flatten_json_schema(schema_2)"
   ]
  },
  {
   "cell_type": "code",
   "execution_count": null,
   "metadata": {},
   "outputs": [],
   "source": []
  }
 ],
 "metadata": {
  "kernelspec": {
   "display_name": "aws",
   "language": "python",
   "name": "python3"
  },
  "language_info": {
   "codemirror_mode": {
    "name": "ipython",
    "version": 3
   },
   "file_extension": ".py",
   "mimetype": "text/x-python",
   "name": "python",
   "nbconvert_exporter": "python",
   "pygments_lexer": "ipython3",
   "version": "3.9.7"
  },
  "orig_nbformat": 4
 },
 "nbformat": 4,
 "nbformat_minor": 2
}
