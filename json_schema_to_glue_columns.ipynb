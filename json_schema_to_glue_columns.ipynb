{
 "cells": [
  {
   "cell_type": "code",
   "execution_count": 1,
   "metadata": {},
   "outputs": [],
   "source": [
    "from json_schema_to_glue_columns import *"
   ]
  },
  {
   "cell_type": "code",
   "execution_count": 2,
   "metadata": {},
   "outputs": [],
   "source": [
    "glue_data_formats_mapping ={\n",
    "    \"csv\": {\n",
    "        \"input_format\": \"org.apache.hadoop.mapred.TextInputFormat\",\n",
    "        \"output_format\": \"org.apache.hadoop.hive.ql.io.HivelgnoreKeyTextOutputFormat\",\n",
    "        \"serde_info\": {\n",
    "            \"SerializationLibrary\": \"org.apache.hadoop.hive.serde2.OpenCSVSerde\",\n",
    "            \"Parameters\": {\n",
    "                \"separatorChar\": \",\"\n",
    "            }\n",
    "        },\n",
    "        \"parameters\": {\n",
    "            \"classification\": \"csv\"\n",
    "        }\n",
    "    },\n",
    "    \"json\": {\n",
    "        \"input_format\": \"org.apache.hadoop.mapred.TextInputFormat\",\n",
    "        \"output_format\": \"org.apache.hadoop.hive.qlio.HivelgnoreKeyTextOutputFormat\",\n",
    "        \"serde_info\": {\n",
    "            \"SerializationLibrary\": \"org.openx.data.jsonserde.JsonSerDe\"\n",
    "        },\n",
    "        \"parameters\": {\n",
    "            \"classification\": \"json\"\n",
    "        }\n",
    "    },\n",
    "    \"parquet\": {\n",
    "        \"input_format\": \"org.apache.hadoop.hive.ql.io.parquet.MapredParquetInputFormat\",\n",
    "        \"output_format\": \"org.apache.hadoop.hive.ql.io.parquet.MapredParquetOutputFormat\",\n",
    "        \"serde_info\": {\n",
    "            \"SerializationLibrary\": \"org.apache.hadoop.hive.ql.io.parquet.serde.ParquetHiveSerDe\",\n",
    "            \"Parameters\": {\n",
    "                \"serialization.format\": \"1\"\n",
    "            }\n",
    "        },\n",
    "        \"parameters\": {\n",
    "            \"classification\": \"parquet\"\n",
    "        }\n",
    "    }\n",
    "}"
   ]
  },
  {
   "cell_type": "code",
   "execution_count": 3,
   "metadata": {},
   "outputs": [],
   "source": [
    "schema_file_location = \"./sample1.schema.json\"\n",
    "config_file_location = \"./sample1.config.yml\""
   ]
  },
  {
   "cell_type": "code",
   "execution_count": 4,
   "metadata": {},
   "outputs": [
    {
     "data": {
      "text/plain": [
       "{'title': 'Model',\n",
       " 'type': 'object',\n",
       " 'properties': {'glossary': {'title': 'Glossary',\n",
       "   'type': 'object',\n",
       "   'properties': {'title': {'title': 'Title', 'type': 'string'},\n",
       "    'GlossDiv': {'title': 'GlossDiv',\n",
       "     'type': 'object',\n",
       "     'properties': {'title': {'title': 'Title', 'type': 'string'},\n",
       "      'GlossList': {'title': 'GlossList',\n",
       "       'type': 'object',\n",
       "       'properties': {'GlossEntry': {'title': 'GlossEntry',\n",
       "         'type': 'object',\n",
       "         'properties': {'ID': {'title': 'Id', 'type': 'string'},\n",
       "          'SortAs': {'title': 'Sortas', 'type': 'string'},\n",
       "          'GlossTerm': {'title': 'Glossterm', 'type': 'string'},\n",
       "          'Acronym': {'title': 'Acronym', 'type': 'string'},\n",
       "          'Abbrev': {'title': 'Abbrev', 'type': 'string'},\n",
       "          'GlossDef': {'title': 'GlossDef',\n",
       "           'type': 'object',\n",
       "           'properties': {'para': {'title': 'Para', 'type': 'string'},\n",
       "            'GlossSeeAlso': {'title': 'Glossseealso',\n",
       "             'type': 'array',\n",
       "             'items': {'type': 'string'}}},\n",
       "           'required': ['para', 'GlossSeeAlso']},\n",
       "          'GlossSee': {'title': 'Glosssee', 'type': 'string'}},\n",
       "         'required': ['ID',\n",
       "          'SortAs',\n",
       "          'GlossTerm',\n",
       "          'Acronym',\n",
       "          'Abbrev',\n",
       "          'GlossDef',\n",
       "          'GlossSee']}},\n",
       "       'required': ['GlossEntry']}},\n",
       "     'required': ['title', 'GlossList']}},\n",
       "   'required': ['title', 'GlossDiv']},\n",
       "  'local': {'title': 'Model',\n",
       "   'type': 'object',\n",
       "   'properties': {'menu': {'title': 'Menu',\n",
       "     'type': 'object',\n",
       "     'properties': {'id': {'title': 'Id', 'type': 'string'},\n",
       "      'value': {'title': 'Value', 'type': 'string'},\n",
       "      'popup': {'title': 'Popup',\n",
       "       'type': 'object',\n",
       "       'properties': {'menuitem': {'title': 'Menuitem',\n",
       "         'type': 'array',\n",
       "         'items': {'title': 'MenuitemItem',\n",
       "          'type': 'object',\n",
       "          'properties': {'value': {'title': 'Value', 'type': 'string'},\n",
       "           'onclick': {'title': 'Onclick', 'type': 'string'}},\n",
       "          'required': ['value', 'onclick']}}},\n",
       "       'required': ['menuitem']}},\n",
       "     'required': ['id', 'value', 'popup']}},\n",
       "   'required': ['menu']},\n",
       "  'external': {'title': 'Model',\n",
       "   'type': 'object',\n",
       "   'properties': {'viewer': {'title': 'Viewer',\n",
       "     'type': 'object',\n",
       "     'properties': {'header': {'title': 'Header', 'type': 'string'},\n",
       "      'items': {'title': 'Items',\n",
       "       'type': 'array',\n",
       "       'items': {'title': 'Item',\n",
       "        'type': 'object',\n",
       "        'properties': {'id': {'title': 'Id', 'type': 'string'},\n",
       "         'label': {'title': 'Label', 'type': 'string'}},\n",
       "        'required': ['id']}}},\n",
       "     'required': ['header', 'items']}},\n",
       "   'required': ['viewer']}},\n",
       " 'required': ['glossary', 'local', 'external'],\n",
       " 'definitions': {'GlossDef': {'title': 'GlossDef',\n",
       "   'type': 'object',\n",
       "   'properties': {'para': {'title': 'Para', 'type': 'string'},\n",
       "    'GlossSeeAlso': {'title': 'Glossseealso',\n",
       "     'type': 'array',\n",
       "     'items': {'type': 'string'}}},\n",
       "   'required': ['para', 'GlossSeeAlso']},\n",
       "  'GlossEntry': {'title': 'GlossEntry',\n",
       "   'type': 'object',\n",
       "   'properties': {'ID': {'title': 'Id', 'type': 'string'},\n",
       "    'SortAs': {'title': 'Sortas', 'type': 'string'},\n",
       "    'GlossTerm': {'title': 'Glossterm', 'type': 'string'},\n",
       "    'Acronym': {'title': 'Acronym', 'type': 'string'},\n",
       "    'Abbrev': {'title': 'Abbrev', 'type': 'string'},\n",
       "    'GlossDef': {'title': 'GlossDef',\n",
       "     'type': 'object',\n",
       "     'properties': {'para': {'title': 'Para', 'type': 'string'},\n",
       "      'GlossSeeAlso': {'title': 'Glossseealso',\n",
       "       'type': 'array',\n",
       "       'items': {'type': 'string'}}},\n",
       "     'required': ['para', 'GlossSeeAlso']},\n",
       "    'GlossSee': {'title': 'Glosssee', 'type': 'string'}},\n",
       "   'required': ['ID',\n",
       "    'SortAs',\n",
       "    'GlossTerm',\n",
       "    'Acronym',\n",
       "    'Abbrev',\n",
       "    'GlossDef',\n",
       "    'GlossSee']},\n",
       "  'GlossList': {'title': 'GlossList',\n",
       "   'type': 'object',\n",
       "   'properties': {'GlossEntry': {'title': 'GlossEntry',\n",
       "     'type': 'object',\n",
       "     'properties': {'ID': {'title': 'Id', 'type': 'string'},\n",
       "      'SortAs': {'title': 'Sortas', 'type': 'string'},\n",
       "      'GlossTerm': {'title': 'Glossterm', 'type': 'string'},\n",
       "      'Acronym': {'title': 'Acronym', 'type': 'string'},\n",
       "      'Abbrev': {'title': 'Abbrev', 'type': 'string'},\n",
       "      'GlossDef': {'title': 'GlossDef',\n",
       "       'type': 'object',\n",
       "       'properties': {'para': {'title': 'Para', 'type': 'string'},\n",
       "        'GlossSeeAlso': {'title': 'Glossseealso',\n",
       "         'type': 'array',\n",
       "         'items': {'type': 'string'}}},\n",
       "       'required': ['para', 'GlossSeeAlso']},\n",
       "      'GlossSee': {'title': 'Glosssee', 'type': 'string'}},\n",
       "     'required': ['ID',\n",
       "      'SortAs',\n",
       "      'GlossTerm',\n",
       "      'Acronym',\n",
       "      'Abbrev',\n",
       "      'GlossDef',\n",
       "      'GlossSee']}},\n",
       "   'required': ['GlossEntry']},\n",
       "  'GlossDiv': {'title': 'GlossDiv',\n",
       "   'type': 'object',\n",
       "   'properties': {'title': {'title': 'Title', 'type': 'string'},\n",
       "    'GlossList': {'title': 'GlossList',\n",
       "     'type': 'object',\n",
       "     'properties': {'GlossEntry': {'title': 'GlossEntry',\n",
       "       'type': 'object',\n",
       "       'properties': {'ID': {'title': 'Id', 'type': 'string'},\n",
       "        'SortAs': {'title': 'Sortas', 'type': 'string'},\n",
       "        'GlossTerm': {'title': 'Glossterm', 'type': 'string'},\n",
       "        'Acronym': {'title': 'Acronym', 'type': 'string'},\n",
       "        'Abbrev': {'title': 'Abbrev', 'type': 'string'},\n",
       "        'GlossDef': {'title': 'GlossDef',\n",
       "         'type': 'object',\n",
       "         'properties': {'para': {'title': 'Para', 'type': 'string'},\n",
       "          'GlossSeeAlso': {'title': 'Glossseealso',\n",
       "           'type': 'array',\n",
       "           'items': {'type': 'string'}}},\n",
       "         'required': ['para', 'GlossSeeAlso']},\n",
       "        'GlossSee': {'title': 'Glosssee', 'type': 'string'}},\n",
       "       'required': ['ID',\n",
       "        'SortAs',\n",
       "        'GlossTerm',\n",
       "        'Acronym',\n",
       "        'Abbrev',\n",
       "        'GlossDef',\n",
       "        'GlossSee']}},\n",
       "     'required': ['GlossEntry']}},\n",
       "   'required': ['title', 'GlossList']},\n",
       "  'Glossary': {'title': 'Glossary',\n",
       "   'type': 'object',\n",
       "   'properties': {'title': {'title': 'Title', 'type': 'string'},\n",
       "    'GlossDiv': {'title': 'GlossDiv',\n",
       "     'type': 'object',\n",
       "     'properties': {'title': {'title': 'Title', 'type': 'string'},\n",
       "      'GlossList': {'title': 'GlossList',\n",
       "       'type': 'object',\n",
       "       'properties': {'GlossEntry': {'title': 'GlossEntry',\n",
       "         'type': 'object',\n",
       "         'properties': {'ID': {'title': 'Id', 'type': 'string'},\n",
       "          'SortAs': {'title': 'Sortas', 'type': 'string'},\n",
       "          'GlossTerm': {'title': 'Glossterm', 'type': 'string'},\n",
       "          'Acronym': {'title': 'Acronym', 'type': 'string'},\n",
       "          'Abbrev': {'title': 'Abbrev', 'type': 'string'},\n",
       "          'GlossDef': {'title': 'GlossDef',\n",
       "           'type': 'object',\n",
       "           'properties': {'para': {'title': 'Para', 'type': 'string'},\n",
       "            'GlossSeeAlso': {'title': 'Glossseealso',\n",
       "             'type': 'array',\n",
       "             'items': {'type': 'string'}}},\n",
       "           'required': ['para', 'GlossSeeAlso']},\n",
       "          'GlossSee': {'title': 'Glosssee', 'type': 'string'}},\n",
       "         'required': ['ID',\n",
       "          'SortAs',\n",
       "          'GlossTerm',\n",
       "          'Acronym',\n",
       "          'Abbrev',\n",
       "          'GlossDef',\n",
       "          'GlossSee']}},\n",
       "       'required': ['GlossEntry']}},\n",
       "     'required': ['title', 'GlossList']}},\n",
       "   'required': ['title', 'GlossDiv']},\n",
       "  'MenuitemItem': {'title': 'MenuitemItem',\n",
       "   'type': 'object',\n",
       "   'properties': {'value': {'title': 'Value', 'type': 'string'},\n",
       "    'onclick': {'title': 'Onclick', 'type': 'string'}},\n",
       "   'required': ['value', 'onclick']},\n",
       "  'Popup': {'title': 'Popup',\n",
       "   'type': 'object',\n",
       "   'properties': {'menuitem': {'title': 'Menuitem',\n",
       "     'type': 'array',\n",
       "     'items': {'title': 'MenuitemItem',\n",
       "      'type': 'object',\n",
       "      'properties': {'value': {'title': 'Value', 'type': 'string'},\n",
       "       'onclick': {'title': 'Onclick', 'type': 'string'}},\n",
       "      'required': ['value', 'onclick']}}},\n",
       "   'required': ['menuitem']},\n",
       "  'Menu': {'title': 'Menu',\n",
       "   'type': 'object',\n",
       "   'properties': {'id': {'title': 'Id', 'type': 'string'},\n",
       "    'value': {'title': 'Value', 'type': 'string'},\n",
       "    'popup': {'title': 'Popup',\n",
       "     'type': 'object',\n",
       "     'properties': {'menuitem': {'title': 'Menuitem',\n",
       "       'type': 'array',\n",
       "       'items': {'title': 'MenuitemItem',\n",
       "        'type': 'object',\n",
       "        'properties': {'value': {'title': 'Value', 'type': 'string'},\n",
       "         'onclick': {'title': 'Onclick', 'type': 'string'}},\n",
       "        'required': ['value', 'onclick']}}},\n",
       "     'required': ['menuitem']}},\n",
       "   'required': ['id', 'value', 'popup']},\n",
       "  'Item': {'title': 'Item',\n",
       "   'type': 'object',\n",
       "   'properties': {'id': {'title': 'Id', 'type': 'string'},\n",
       "    'label': {'title': 'Label', 'type': 'string'}},\n",
       "   'required': ['id']},\n",
       "  'Viewer': {'title': 'Viewer',\n",
       "   'type': 'object',\n",
       "   'properties': {'header': {'title': 'Header', 'type': 'string'},\n",
       "    'items': {'title': 'Items',\n",
       "     'type': 'array',\n",
       "     'items': {'title': 'Item',\n",
       "      'type': 'object',\n",
       "      'properties': {'id': {'title': 'Id', 'type': 'string'},\n",
       "       'label': {'title': 'Label', 'type': 'string'}},\n",
       "      'required': ['id']}}},\n",
       "   'required': ['header', 'items']}}}"
      ]
     },
     "execution_count": 4,
     "metadata": {},
     "output_type": "execute_result"
    }
   ],
   "source": [
    "schema = load_json_schema(schema_file_location)\n",
    "schema"
   ]
  },
  {
   "cell_type": "code",
   "execution_count": 5,
   "metadata": {},
   "outputs": [
    {
     "data": {
      "text/plain": [
       "{'data_format': 'json',\n",
       " 'pipeline_type': 'SCD1',\n",
       " 'storage_zones': {'raw': {'database': 'abc_source_raw',\n",
       "   'table': 'sample',\n",
       "   's3_location': 's3://org-dev-abc-raw/prefix'},\n",
       "  'staging': {'database': 'abc_source_staging',\n",
       "   'table': 'sample',\n",
       "   's3_location': 's3://org-dev-abc-staging/prefix'}}}"
      ]
     },
     "execution_count": 5,
     "metadata": {},
     "output_type": "execute_result"
    }
   ],
   "source": [
    "placeholders = {\n",
    "    \"[aws_env]\": \"dev\",\n",
    "    \"[logical_env]\": \"abc\"\n",
    "}\n",
    "\n",
    "config = load_yaml_config(config_file_location, placeholders)\n",
    "config"
   ]
  },
  {
   "cell_type": "code",
   "execution_count": 6,
   "metadata": {},
   "outputs": [
    {
     "data": {
      "text/plain": [
       "[{'Name': 'year', 'Type': 'int'},\n",
       " {'Name': 'month', 'Type': 'int'},\n",
       " {'Name': 'day', 'Type': 'int'},\n",
       " {'Name': 'hour', 'Type': 'int'},\n",
       " {'Name': 'minute', 'Type': 'int'}]"
      ]
     },
     "execution_count": 6,
     "metadata": {},
     "output_type": "execute_result"
    }
   ],
   "source": [
    "partition_key_list = [\"year:int\", \"month:int\", \"day:int\", \"hour:int\", \"minute:int\"]\n",
    "partition_keys = create_partition_keys(partition_key_list)\n",
    "partition_keys"
   ]
  },
  {
   "cell_type": "code",
   "execution_count": 7,
   "metadata": {},
   "outputs": [
    {
     "data": {
      "text/plain": [
       "[{'Name': 'glossary',\n",
       "  'Type': 'STRUCT<title:STRING,glossdiv:STRUCT<title:STRING,glosslist:STRUCT<glossentry:STRUCT<id:STRING,sortas:STRING,glossterm:STRING,acronym:STRING,abbrev:STRING,glossdef:STRUCT<para:STRING,glossseealso:ARRAY<STRING>>,glosssee:STRING>>>>'},\n",
       " {'Name': 'local',\n",
       "  'Type': 'STRUCT<menu:STRUCT<id:STRING,value:STRING,popup:STRUCT<menuitem:ARRAY<STRUCT<value:STRING,onclick:STRING>>>>>'},\n",
       " {'Name': 'external',\n",
       "  'Type': 'STRUCT<viewer:STRUCT<header:STRING,items:ARRAY<STRUCT<id:STRING,label:STRING>>>>'}]"
      ]
     },
     "execution_count": 7,
     "metadata": {},
     "output_type": "execute_result"
    }
   ],
   "source": [
    "raw_glue_columns = convert_json_schema_to_glue_columns(schema)\n",
    "raw_glue_columns"
   ]
  },
  {
   "cell_type": "code",
   "execution_count": 8,
   "metadata": {},
   "outputs": [],
   "source": [
    "raw_zone_config = config[\"storage_zones\"][\"raw\"]\n",
    "\n",
    "raw_database = raw_zone_config[\"database\"]\n",
    "raw_table = raw_zone_config[\"table\"]\n",
    "raw_s3_location = raw_zone_config[\"s3_location\"]\n",
    "\n",
    "raw_glue_data_formats = glue_data_formats_mapping[config[\"data_format\"].lower()]\n",
    "\n",
    "raw_input_format = raw_glue_data_formats[\"input_format\"]\n",
    "raw_output_format = raw_glue_data_formats[\"output_format\"]\n",
    "raw_serde_info = raw_glue_data_formats[\"serde_info\"]\n",
    "raw_parameters = raw_glue_data_formats[\"parameters\"]"
   ]
  },
  {
   "cell_type": "code",
   "execution_count": 9,
   "metadata": {},
   "outputs": [],
   "source": [
    "raw_table_manager = GlueTableManager(\n",
    "    table_type='EXTERNAL_TABLE',\n",
    "    description='This is a sample table',\n",
    "    database_name=raw_database,\n",
    "    table_name=raw_table,\n",
    "    columns=raw_glue_columns,\n",
    "    location=raw_s3_location,\n",
    "    input_format=raw_input_format,\n",
    "    output_format=raw_output_format,\n",
    "    serde_info=raw_serde_info,\n",
    "    partition_keys=partition_keys, \n",
    "    parameters=raw_parameters\n",
    ")"
   ]
  },
  {
   "cell_type": "code",
   "execution_count": 10,
   "metadata": {},
   "outputs": [
    {
     "data": {
      "text/plain": [
       "{'ResponseMetadata': {'RequestId': 'fe776c54-9f74-4708-8805-1704072f5b04',\n",
       "  'HTTPStatusCode': 200,\n",
       "  'HTTPHeaders': {'date': 'Thu, 08 Jun 2023 14:22:10 GMT',\n",
       "   'content-type': 'application/x-amz-json-1.1',\n",
       "   'content-length': '2',\n",
       "   'connection': 'keep-alive',\n",
       "   'x-amzn-requestid': 'fe776c54-9f74-4708-8805-1704072f5b04'},\n",
       "  'RetryAttempts': 0}}"
      ]
     },
     "execution_count": 10,
     "metadata": {},
     "output_type": "execute_result"
    }
   ],
   "source": [
    "raw_table_manager.create_or_update_table()"
   ]
  },
  {
   "cell_type": "code",
   "execution_count": 11,
   "metadata": {},
   "outputs": [
    {
     "data": {
      "text/plain": [
       "[{'Name': 'glossary__title', 'Type': 'STRING'},\n",
       " {'Name': 'glossary__glossdiv__title', 'Type': 'STRING'},\n",
       " {'Name': 'glossary__glossdiv__glosslist__glossentry__id', 'Type': 'STRING'},\n",
       " {'Name': 'glossary__glossdiv__glosslist__glossentry__sortas',\n",
       "  'Type': 'STRING'},\n",
       " {'Name': 'glossary__glossdiv__glosslist__glossentry__glossterm',\n",
       "  'Type': 'STRING'},\n",
       " {'Name': 'glossary__glossdiv__glosslist__glossentry__acronym',\n",
       "  'Type': 'STRING'},\n",
       " {'Name': 'glossary__glossdiv__glosslist__glossentry__abbrev',\n",
       "  'Type': 'STRING'},\n",
       " {'Name': 'glossary__glossdiv__glosslist__glossentry__glossdef__para',\n",
       "  'Type': 'STRING'},\n",
       " {'Name': 'glossary__glossdiv__glosslist__glossentry__glossdef__glossseealso',\n",
       "  'Type': 'ARRAY<STRING>'},\n",
       " {'Name': 'glossary__glossdiv__glosslist__glossentry__glosssee',\n",
       "  'Type': 'STRING'},\n",
       " {'Name': 'local__menu__id', 'Type': 'STRING'},\n",
       " {'Name': 'local__menu__value', 'Type': 'STRING'},\n",
       " {'Name': 'local__menu__popup__menuitem',\n",
       "  'Type': 'ARRAY<STRUCT<value:STRING,onclick:STRING>>'},\n",
       " {'Name': 'external__viewer__header', 'Type': 'STRING'},\n",
       " {'Name': 'external__viewer__items',\n",
       "  'Type': 'ARRAY<STRUCT<id:STRING,label:STRING>>'}]"
      ]
     },
     "execution_count": 11,
     "metadata": {},
     "output_type": "execute_result"
    }
   ],
   "source": [
    "staging_glue_columns = convert_json_schema_to_glue_columns(schema, flatten=True, delimiter='__')\n",
    "staging_glue_columns"
   ]
  },
  {
   "cell_type": "code",
   "execution_count": 12,
   "metadata": {},
   "outputs": [
    {
     "data": {
      "text/plain": [
       "[{'Name': 'glossary__title', 'Type': 'STRING'},\n",
       " {'Name': 'glossary__glossdiv__title', 'Type': 'STRING'},\n",
       " {'Name': 'glossary__glossdiv__glosslist__glossentry__id', 'Type': 'STRING'},\n",
       " {'Name': 'glossary__glossdiv__glosslist__glossentry__sortas',\n",
       "  'Type': 'STRING'},\n",
       " {'Name': 'glossary__glossdiv__glosslist__glossentry__glossterm',\n",
       "  'Type': 'STRING'},\n",
       " {'Name': 'glossary__glossdiv__glosslist__glossentry__acronym',\n",
       "  'Type': 'STRING'},\n",
       " {'Name': 'glossary__glossdiv__glosslist__glossentry__abbrev',\n",
       "  'Type': 'STRING'},\n",
       " {'Name': 'glossary__glossdiv__glosslist__glossentry__glossdef__para',\n",
       "  'Type': 'STRING'},\n",
       " {'Name': 'glossary__glossdiv__glosslist__glossentry__glossdef__glossseealso',\n",
       "  'Type': 'ARRAY<STRING>'},\n",
       " {'Name': 'glossary__glossdiv__glosslist__glossentry__glosssee',\n",
       "  'Type': 'STRING'},\n",
       " {'Name': 'local__menu__id', 'Type': 'STRING'},\n",
       " {'Name': 'local__menu__value', 'Type': 'STRING'},\n",
       " {'Name': 'local__menu__popup__menuitem',\n",
       "  'Type': 'ARRAY<STRUCT<value:STRING,onclick:STRING>>'},\n",
       " {'Name': 'external__viewer__header', 'Type': 'STRING'},\n",
       " {'Name': 'external__viewer__items',\n",
       "  'Type': 'ARRAY<STRUCT<id:STRING,label:STRING>>'},\n",
       " {'Name': 'last_updated', 'Type': 'STRING'}]"
      ]
     },
     "execution_count": 12,
     "metadata": {},
     "output_type": "execute_result"
    }
   ],
   "source": [
    "pipeline_type = config[\"pipeline_type\"]\n",
    "additional_columns = get_additional_columns(pipeline_type)\n",
    "staging_glue_columns+=additional_columns\n",
    "staging_glue_columns"
   ]
  },
  {
   "cell_type": "code",
   "execution_count": 13,
   "metadata": {},
   "outputs": [],
   "source": [
    "staging_zone_config = config[\"storage_zones\"][\"staging\"]\n",
    "\n",
    "staging_database = staging_zone_config[\"database\"]\n",
    "staging_table = staging_zone_config[\"table\"]\n",
    "staging_s3_location = staging_zone_config[\"s3_location\"]\n",
    "\n",
    "staging_glue_data_formats = glue_data_formats_mapping[\"parquet\"]\n",
    "\n",
    "staging_input_format = staging_glue_data_formats[\"input_format\"]\n",
    "staging_output_format = staging_glue_data_formats[\"output_format\"]\n",
    "staging_serde_info = staging_glue_data_formats[\"serde_info\"]\n",
    "staging_parameters = staging_glue_data_formats[\"parameters\"]"
   ]
  },
  {
   "cell_type": "code",
   "execution_count": 14,
   "metadata": {},
   "outputs": [],
   "source": [
    "staging_table_manager = GlueTableManager(\n",
    "    table_type='EXTERNAL_TABLE',\n",
    "    description='This is a sample table',\n",
    "    database_name=staging_database,\n",
    "    table_name=staging_table,\n",
    "    columns=staging_glue_columns,\n",
    "    location=staging_s3_location,\n",
    "    input_format=staging_input_format,\n",
    "    output_format=staging_output_format,\n",
    "    serde_info=staging_serde_info,\n",
    "    partition_keys=partition_keys, \n",
    "    parameters=staging_parameters\n",
    ")"
   ]
  },
  {
   "cell_type": "code",
   "execution_count": 15,
   "metadata": {},
   "outputs": [
    {
     "data": {
      "text/plain": [
       "{'ResponseMetadata': {'RequestId': 'f44f4e95-daaa-49a4-a0b9-b65465c699a7',\n",
       "  'HTTPStatusCode': 200,\n",
       "  'HTTPHeaders': {'date': 'Thu, 08 Jun 2023 14:22:39 GMT',\n",
       "   'content-type': 'application/x-amz-json-1.1',\n",
       "   'content-length': '2',\n",
       "   'connection': 'keep-alive',\n",
       "   'x-amzn-requestid': 'f44f4e95-daaa-49a4-a0b9-b65465c699a7'},\n",
       "  'RetryAttempts': 0}}"
      ]
     },
     "execution_count": 15,
     "metadata": {},
     "output_type": "execute_result"
    }
   ],
   "source": [
    "staging_table_manager.create_or_update_table()"
   ]
  }
 ],
 "metadata": {
  "kernelspec": {
   "display_name": "aws",
   "language": "python",
   "name": "python3"
  },
  "language_info": {
   "codemirror_mode": {
    "name": "ipython",
    "version": 3
   },
   "file_extension": ".py",
   "mimetype": "text/x-python",
   "name": "python",
   "nbconvert_exporter": "python",
   "pygments_lexer": "ipython3",
   "version": "3.9.7"
  },
  "orig_nbformat": 4
 },
 "nbformat": 4,
 "nbformat_minor": 2
}
