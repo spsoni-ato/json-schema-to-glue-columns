{
 "cells": [
  {
   "cell_type": "code",
   "execution_count": 1,
   "metadata": {},
   "outputs": [],
   "source": [
    "from json_schema_to_glue_columns import *"
   ]
  },
  {
   "cell_type": "code",
   "execution_count": 2,
   "metadata": {},
   "outputs": [],
   "source": [
    "schema_file_location = \"./sample1.schema.json\"\n",
    "config_file_location = \"./sample1.config.yml\""
   ]
  },
  {
   "cell_type": "code",
   "execution_count": 3,
   "metadata": {},
   "outputs": [
    {
     "data": {
      "text/plain": [
       "{'title': 'Root Schema',\n",
       " 'type': 'object',\n",
       " 'default': {},\n",
       " 'required': ['id', 'isbn', 'author', 'editor', 'title', 'category', 'tags'],\n",
       " 'additionalProperties': True,\n",
       " 'properties': {'ID': {'title': 'The id Schema',\n",
       "   'type': 'number',\n",
       "   'default': 0,\n",
       "   'examples': [1]},\n",
       "  'isbn': {'title': 'The isbn Schema',\n",
       "   'type': 'string',\n",
       "   'default': '',\n",
       "   'examples': ['123-456-222']},\n",
       "  'author': {'title': 'The author Schema',\n",
       "   'type': 'object',\n",
       "   'default': {},\n",
       "   'required': ['lastname', 'firstname'],\n",
       "   'additionalProperties': True,\n",
       "   'properties': {'last name': {'title': 'The lastname Schema',\n",
       "     'type': 'string',\n",
       "     'default': '',\n",
       "     'examples': ['Doe']},\n",
       "    'first-name': {'title': 'The firstname Schema',\n",
       "     'type': 'string',\n",
       "     'default': '',\n",
       "     'examples': ['Jane']}},\n",
       "   'examples': [{'lastname': 'Doe', 'firstname': 'Jane'}]},\n",
       "  'editor': {'title': 'The editor Schema',\n",
       "   'type': 'object',\n",
       "   'default': {},\n",
       "   'required': ['lastname', 'firstname'],\n",
       "   'additionalProperties': True,\n",
       "   'properties': {'last name': {'title': 'The lastname Schema',\n",
       "     'type': 'string',\n",
       "     'default': '',\n",
       "     'examples': ['Smith']},\n",
       "    'first-name': {'title': 'The firstname Schema',\n",
       "     'type': 'string',\n",
       "     'default': '',\n",
       "     'examples': ['Jane']}},\n",
       "   'examples': [{'lastname': 'Smith', 'firstname': 'Jane'}]},\n",
       "  'title': {'title': 'The title Schema',\n",
       "   'type': 'string',\n",
       "   'default': '',\n",
       "   'examples': ['The Ultimate Database Study Guide']},\n",
       "  'category': {'title': 'The category Schema',\n",
       "   'type': 'array',\n",
       "   'default': [],\n",
       "   'additionalItems': True,\n",
       "   'items': {'title': 'A Schema',\n",
       "    'type': 'string',\n",
       "    'examples': ['Non-Fiction', 'Technology']},\n",
       "   'examples': [['Non-Fiction', 'Technology']]},\n",
       "  'tags': {'title': 'The tags Schema',\n",
       "   'type': 'array',\n",
       "   'default': [],\n",
       "   'additionalItems': True,\n",
       "   'items': {'title': 'A Schema',\n",
       "    'type': 'object',\n",
       "    'required': ['key', 'value'],\n",
       "    'additionalProperties': True,\n",
       "    'properties': {'key': {'title': 'The key Schema',\n",
       "      'type': 'string',\n",
       "      'examples': ['Title', 'ISBN']},\n",
       "     'value': {'title': 'The value Schema',\n",
       "      'type': 'string',\n",
       "      'examples': ['The Ultimate Database Study Guide', '123-456-222']}},\n",
       "    'examples': [{'key': 'Title',\n",
       "      'value': 'The Ultimate Database Study Guide'},\n",
       "     {'key': 'ISBN', 'value': '123-456-222'}]},\n",
       "   'examples': [[{'key': 'Title',\n",
       "      'value': 'The Ultimate Database Study Guide'},\n",
       "     {'key': 'ISBN', 'value': '123-456-222'}]]}},\n",
       " 'examples': [{'id': 1,\n",
       "   'isbn': '123-456-222',\n",
       "   'author': {'lastname': 'Doe', 'firstname': 'Jane'},\n",
       "   'editor': {'lastname': 'Smith', 'firstname': 'Jane'},\n",
       "   'title': 'The Ultimate Database Study Guide',\n",
       "   'category': ['Non-Fiction', 'Technology'],\n",
       "   'tags': [{'key': 'Title', 'value': 'The Ultimate Database Study Guide'},\n",
       "    {'key': 'ISBN', 'value': '123-456-222'}]}]}"
      ]
     },
     "execution_count": 3,
     "metadata": {},
     "output_type": "execute_result"
    }
   ],
   "source": [
    "schema = load_json_schema(schema_file_location)\n",
    "schema"
   ]
  },
  {
   "cell_type": "code",
   "execution_count": 4,
   "metadata": {},
   "outputs": [
    {
     "data": {
      "text/plain": [
       "{'data_format': 'json',\n",
       " 'pipeline_type': 'SCD1',\n",
       " 'storage_zones': {'raw': {'database': 'abc_source_raw',\n",
       "   'table': 'sample',\n",
       "   's3_location': 's3://org-dev-abc-raw/prefix'},\n",
       "  'staging': {'database': 'abc_source_staging',\n",
       "   'table': 'sample',\n",
       "   's3_location': 's3://org-dev-abc-staging/prefix'}}}"
      ]
     },
     "execution_count": 4,
     "metadata": {},
     "output_type": "execute_result"
    }
   ],
   "source": [
    "placeholders = {\n",
    "    \"[aws_env]\": \"dev\",\n",
    "    \"[logical_env]\": \"abc\"\n",
    "}\n",
    "\n",
    "config = load_yaml_config(config_file_location, placeholders)\n",
    "config"
   ]
  },
  {
   "cell_type": "code",
   "execution_count": 5,
   "metadata": {},
   "outputs": [
    {
     "data": {
      "text/plain": [
       "[{'Name': 'year', 'Type': 'int'},\n",
       " {'Name': 'month', 'Type': 'int'},\n",
       " {'Name': 'day', 'Type': 'int'},\n",
       " {'Name': 'hour', 'Type': 'int'},\n",
       " {'Name': 'minute', 'Type': 'int'}]"
      ]
     },
     "execution_count": 5,
     "metadata": {},
     "output_type": "execute_result"
    }
   ],
   "source": [
    "partition_key_list = [\"year:int\", \"month:int\", \"day:int\", \"hour:int\", \"minute:int\"]\n",
    "partition_keys = create_partition_keys(partition_key_list)\n",
    "partition_keys"
   ]
  },
  {
   "cell_type": "code",
   "execution_count": 6,
   "metadata": {},
   "outputs": [
    {
     "data": {
      "text/plain": [
       "[{'Name': 'id', 'Type': 'DOUBLE'},\n",
       " {'Name': 'isbn', 'Type': 'STRING'},\n",
       " {'Name': 'author', 'Type': 'STRUCT<last_name:STRING,first_name:STRING>'},\n",
       " {'Name': 'editor', 'Type': 'STRUCT<last_name:STRING,first_name:STRING>'},\n",
       " {'Name': 'title', 'Type': 'STRING'},\n",
       " {'Name': 'category', 'Type': 'ARRAY<STRING>'},\n",
       " {'Name': 'tags', 'Type': 'ARRAY<STRUCT<key:STRING,value:STRING>>'}]"
      ]
     },
     "execution_count": 6,
     "metadata": {},
     "output_type": "execute_result"
    }
   ],
   "source": [
    "glue_columns_raw = convert_json_schema_to_glue_columns(schema)\n",
    "glue_columns_raw"
   ]
  },
  {
   "cell_type": "code",
   "execution_count": 7,
   "metadata": {},
   "outputs": [
    {
     "data": {
      "text/plain": [
       "[{'Name': 'id', 'Type': 'DOUBLE'},\n",
       " {'Name': 'isbn', 'Type': 'STRING'},\n",
       " {'Name': 'author__last_name', 'Type': 'STRING'},\n",
       " {'Name': 'author__first_name', 'Type': 'STRING'},\n",
       " {'Name': 'editor__last_name', 'Type': 'STRING'},\n",
       " {'Name': 'editor__first_name', 'Type': 'STRING'},\n",
       " {'Name': 'title', 'Type': 'STRING'},\n",
       " {'Name': 'category', 'Type': 'ARRAY<STRING>'},\n",
       " {'Name': 'tags', 'Type': 'ARRAY<STRUCT<key:STRING,value:STRING>>'}]"
      ]
     },
     "execution_count": 7,
     "metadata": {},
     "output_type": "execute_result"
    }
   ],
   "source": [
    "glue_columns_staging = convert_json_schema_to_glue_columns(schema, flatten=True, delimiter='__')\n",
    "glue_columns_staging"
   ]
  },
  {
   "cell_type": "code",
   "execution_count": null,
   "metadata": {},
   "outputs": [],
   "source": []
  }
 ],
 "metadata": {
  "kernelspec": {
   "display_name": "aws",
   "language": "python",
   "name": "python3"
  },
  "language_info": {
   "codemirror_mode": {
    "name": "ipython",
    "version": 3
   },
   "file_extension": ".py",
   "mimetype": "text/x-python",
   "name": "python",
   "nbconvert_exporter": "python",
   "pygments_lexer": "ipython3",
   "version": "3.9.7"
  },
  "orig_nbformat": 4
 },
 "nbformat": 4,
 "nbformat_minor": 2
}
