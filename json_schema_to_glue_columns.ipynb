{
 "cells": [
  {
   "cell_type": "code",
   "execution_count": 1,
   "metadata": {},
   "outputs": [],
   "source": [
    "import json\n",
    "import yaml\n",
    "from json_schema_to_glue_columns import *"
   ]
  },
  {
   "cell_type": "code",
   "execution_count": 2,
   "metadata": {},
   "outputs": [],
   "source": [
    "def load_schema(schema_file_location):\n",
    "    with open(schema_file_location) as schema_file:\n",
    "        schema = json.load(schema_file)\n",
    "    return schema"
   ]
  },
  {
   "cell_type": "code",
   "execution_count": 3,
   "metadata": {},
   "outputs": [],
   "source": [
    "def load_config(config_file_location):\n",
    "    with open(config_file_location) as config_file:\n",
    "        config = yaml.safe_load(config_file)\n",
    "    return config"
   ]
  },
  {
   "cell_type": "code",
   "execution_count": 4,
   "metadata": {},
   "outputs": [],
   "source": [
    "def create_partition_keys(partition_key_list):\n",
    "    partition_keys = []\n",
    "    for partition_key in partition_key_list:\n",
    "        key_name, key_type = partition_key.split(\":\")\n",
    "        partition_keys.append({\n",
    "            \"Name\": key_name.strip(),\n",
    "            \"Type\": key_type.strip()\n",
    "        })\n",
    "    return partition_keys"
   ]
  },
  {
   "cell_type": "code",
   "execution_count": 5,
   "metadata": {},
   "outputs": [
    {
     "data": {
      "text/plain": [
       "[{'Name': 'year', 'Type': 'int'},\n",
       " {'Name': 'month', 'Type': 'int'},\n",
       " {'Name': 'day', 'Type': 'int'},\n",
       " {'Name': 'hour', 'Type': 'int'},\n",
       " {'Name': 'minute', 'Type': 'int'}]"
      ]
     },
     "execution_count": 5,
     "metadata": {},
     "output_type": "execute_result"
    }
   ],
   "source": [
    "partition_key_list = [\"year:int\", \"month:int\", \"day:int\", \"hour:int\", \"minute:int\"]\n",
    "partition_keys = create_partition_keys(partition_key_list)\n",
    "partition_keys"
   ]
  },
  {
   "cell_type": "code",
   "execution_count": 6,
   "metadata": {},
   "outputs": [],
   "source": [
    "schema_file_location_1 = \"./sample1.schema.json\"\n",
    "config_file_location_1 = \"./sample1.config.yml\"\n",
    "\n",
    "schema_1 = load_schema(schema_file_location_1)\n",
    "config_1 = load_config(config_file_location_1)"
   ]
  },
  {
   "cell_type": "code",
   "execution_count": 7,
   "metadata": {},
   "outputs": [],
   "source": [
    "s3_location_raw = f\"{config_1['s3_location']}/raw\"\n",
    "s3_location_staging = f\"{config_1['s3_location']}/staging\"\n",
    "pipeline_type = config_1[\"pipeline_type\"]"
   ]
  },
  {
   "cell_type": "code",
   "execution_count": 8,
   "metadata": {},
   "outputs": [
    {
     "data": {
      "text/plain": [
       "[{'Name': 'id', 'Type': 'DOUBLE'},\n",
       " {'Name': 'isbn', 'Type': 'STRING'},\n",
       " {'Name': 'author', 'Type': 'STRUCT<lastname:STRING,firstname:STRING>'},\n",
       " {'Name': 'editor', 'Type': 'STRUCT<lastname:STRING,firstname:STRING>'},\n",
       " {'Name': 'title', 'Type': 'STRING'},\n",
       " {'Name': 'category', 'Type': 'ARRAY<STRING>'},\n",
       " {'Name': 'tags', 'Type': 'ARRAY<STRUCT<key:STRING,value:STRING>>'}]"
      ]
     },
     "execution_count": 8,
     "metadata": {},
     "output_type": "execute_result"
    }
   ],
   "source": [
    "glue_columns_raw = convert_json_schema_to_glue_columns(schema_1)\n",
    "glue_columns_raw"
   ]
  },
  {
   "attachments": {},
   "cell_type": "markdown",
   "metadata": {},
   "source": [
    "### Sample Glue create_table API call\n",
    "\n",
    "```\n",
    "import boto3\n",
    "\n",
    "client = boto3.client('glue')\n",
    "\n",
    "response = client.create_table(\n",
    "    DatabaseName=\"raw\",\n",
    "    TableInput={\n",
    "        \"Name\": \"sample1\",\n",
    "        \"TableType\": \"EXTERNAL_TABLE\",\n",
    "        \"Parameters\": {\n",
    "            \"classification\": \"json\",\n",
    "            \"typeOfData\": \"file\"\n",
    "        },\n",
    "        \"StorageDescriptor\": {\n",
    "            \"Columns\": [\n",
    "                {\n",
    "                    \"Name\": \"id\",\n",
    "                    \"Type\": \"DOUBLE\"\n",
    "                },\n",
    "                {\n",
    "                    \"Name\": \"isbn\",\n",
    "                    \"Type\": \"STRING\"\n",
    "                },\n",
    "                {\n",
    "                    \"Name\": \"author\",\n",
    "                    \"Type\": \"STRUCT<lastname:STRING,firstname:STRING>\"\n",
    "                },\n",
    "                {\n",
    "                    \"Name\": \"editor\",\n",
    "                    \"Type\": \"STRUCT<lastname:STRING,firstname:STRING>\"\n",
    "                },\n",
    "                {\n",
    "                    \"Name\": \"title\",\n",
    "                    \"Type\": \"STRING\"\n",
    "                },\n",
    "                {\n",
    "                    \"Name\": \"category\",\n",
    "                    \"Type\": \"ARRAY<STRING>\"\n",
    "                },\n",
    "                {\n",
    "                    \"Name\": \"tags\",\n",
    "                    \"Type\": \"ARRAY<STRUCT<key:STRING,value:STRING>>\"\n",
    "                }\n",
    "            ],\n",
    "            \"Location\": \"s3://bucket/prefix/raw\",\n",
    "            \"InputFormat\": \"org.apache.hadoop.mapred.TextInputFormat\",\n",
    "            \"OutputFormat\": \"org.apache.hadoop.hive.ql.io.HiveIgnoreKeyTextOutputFormat\",\n",
    "            \"SerdeInfo\": {\n",
    "                \"SerializationLibrary\": \"org.openx.data.jsonserde.JsonSerDe\",\n",
    "                \"Parameters\": {\n",
    "                    \"serialization.format\": \"1\"\n",
    "                }\n",
    "            }\n",
    "        },\n",
    "        \"PartitionKeys\": [\n",
    "            {\n",
    "                \"Name\": \"year\",\n",
    "                \"Type\": \"int\"\n",
    "            },\n",
    "            {\n",
    "                \"Name\": \"month\",\n",
    "                \"Type\": \"int\"\n",
    "            },\n",
    "            {\n",
    "                \"Name\": \"day\",\n",
    "                \"Type\": \"int\"\n",
    "            },\n",
    "            {\n",
    "                \"Name\": \"hour\",\n",
    "                \"Type\": \"int\"\n",
    "            },\n",
    "            {\n",
    "                \"Name\": \"minute\",\n",
    "                \"Type\": \"int\"\n",
    "            }\n",
    "        ]\n",
    "    }\n",
    ")\n",
    "```"
   ]
  },
  {
   "cell_type": "code",
   "execution_count": 9,
   "metadata": {},
   "outputs": [
    {
     "data": {
      "text/plain": [
       "[{'Name': 'id', 'Type': 'DOUBLE'},\n",
       " {'Name': 'isbn', 'Type': 'STRING'},\n",
       " {'Name': 'author__lastname', 'Type': 'STRING'},\n",
       " {'Name': 'author__firstname', 'Type': 'STRING'},\n",
       " {'Name': 'editor__lastname', 'Type': 'STRING'},\n",
       " {'Name': 'editor__firstname', 'Type': 'STRING'},\n",
       " {'Name': 'title', 'Type': 'STRING'},\n",
       " {'Name': 'category', 'Type': 'ARRAY<STRING>'},\n",
       " {'Name': 'tags', 'Type': 'ARRAY<STRUCT<key:STRING,value:STRING>>'}]"
      ]
     },
     "execution_count": 9,
     "metadata": {},
     "output_type": "execute_result"
    }
   ],
   "source": [
    "glue_columns_staging = convert_json_schema_to_glue_columns(schema_1, flatten=True, delimiter='__')\n",
    "glue_columns_staging"
   ]
  },
  {
   "cell_type": "code",
   "execution_count": 10,
   "metadata": {},
   "outputs": [
    {
     "data": {
      "text/plain": [
       "[{'Name': 'id', 'Type': 'DOUBLE'},\n",
       " {'Name': 'isbn', 'Type': 'STRING'},\n",
       " {'Name': 'author__lastname', 'Type': 'STRING'},\n",
       " {'Name': 'author__firstname', 'Type': 'STRING'},\n",
       " {'Name': 'editor__lastname', 'Type': 'STRING'},\n",
       " {'Name': 'editor__firstname', 'Type': 'STRING'},\n",
       " {'Name': 'title', 'Type': 'STRING'},\n",
       " {'Name': 'category', 'Type': 'ARRAY<STRING>'},\n",
       " {'Name': 'tags', 'Type': 'ARRAY<STRUCT<key:STRING,value:STRING>>'},\n",
       " {'Name': 'last_updated', 'Type': 'STRING'}]"
      ]
     },
     "execution_count": 10,
     "metadata": {},
     "output_type": "execute_result"
    }
   ],
   "source": [
    "if pipeline_type.lower() == \"scd1\":\n",
    "    glue_columns_staging.append({\n",
    "        \"Name\": \"last_updated\",\n",
    "        \"Type\": \"STRING\"\n",
    "    })\n",
    "elif pipeline_type.lower() == \"scd2\":\n",
    "    glue_columns_staging.append({\n",
    "        \"Name\": \"last_updated\",\n",
    "        \"Type\": \"STRING\"\n",
    "    },\n",
    "    {\n",
    "        \"Name\": \"active\",\n",
    "        \"Type\": \"STRING\"\n",
    "    })\n",
    "\n",
    "glue_columns_staging"
   ]
  },
  {
   "attachments": {},
   "cell_type": "markdown",
   "metadata": {},
   "source": [
    "### Sample Glue create_table API call\n",
    "\n",
    "```\n",
    "import boto3\n",
    "\n",
    "client = boto3.client('glue')\n",
    "\n",
    "response = client.create_table(\n",
    "    DatabaseName=\"staging\",\n",
    "    \"TableInput\": {\n",
    "        \"Name\": \"sample1\",\n",
    "        \"TableType\": \"EXTERNAL_TABLE\",\n",
    "        \"Parameters\": {\n",
    "            \"classification\": \"parquet\",\n",
    "            \"typeOfData\": \"file\"\n",
    "        },\n",
    "        \"StorageDescriptor\": {\n",
    "            \"Columns\": [\n",
    "                {\n",
    "                    \"Name\": \"id\",\n",
    "                    \"Type\": \"DOUBLE\"\n",
    "                },\n",
    "                {\n",
    "                    \"Name\": \"isbn\",\n",
    "                    \"Type\": \"STRING\"\n",
    "                },\n",
    "                {\n",
    "                    \"Name\": \"author__lastname\",\n",
    "                    \"Type\": \"STRING\"\n",
    "                },\n",
    "                {\n",
    "                    \"Name\": \"author__firstname\",\n",
    "                    \"Type\": \"STRING\"\n",
    "                },\n",
    "                {\n",
    "                    \"Name\": \"editor__lastname\",\n",
    "                    \"Type\": \"STRING\"\n",
    "                },\n",
    "                {\n",
    "                    \"Name\": \"editor__firstname\",\n",
    "                    \"Type\": \"STRING\"\n",
    "                },\n",
    "                {\n",
    "                    \"Name\": \"title\",\n",
    "                    \"Type\": \"STRING\"\n",
    "                },\n",
    "                {\n",
    "                    \"Name\": \"category\",\n",
    "                    \"Type\": \"ARRAY<STRING>\"\n",
    "                },\n",
    "                {\n",
    "                    \"Name\": \"tags\",\n",
    "                    \"Type\": \"ARRAY<STRUCT<key:STRING,value:STRING>>\"\n",
    "                },\n",
    "                {\n",
    "                    \"Name\": \"last_updated\",\n",
    "                    \"Type\": \"STRING\"\n",
    "                }\n",
    "            ],\n",
    "            \"Location\": \"s3://bucket/prefix/staging\",\n",
    "            \"InputFormat\": \"org.apache.hadoop.hive.ql.io.parquet.MapredParquetInputFormat\",\n",
    "            \"OutputFormat\": \"org.apache.hadoop.hive.ql.io.parquet.MapredParquetOutputFormat\",\n",
    "            \"SerdeInfo\": {\n",
    "                \"SerializationLibrary\": \"org.apache.hadoop.hive.ql.io.parquet.serde.ParquetHiveSerDe\"\n",
    "            }\n",
    "        },\n",
    "        \"PartitionKeys\": [\n",
    "            {\n",
    "                \"Name\": \"year\",\n",
    "                \"Type\": \"int\"\n",
    "            },\n",
    "            {\n",
    "                \"Name\": \"month\",\n",
    "                \"Type\": \"int\"\n",
    "            },\n",
    "            {\n",
    "                \"Name\": \"day\",\n",
    "                \"Type\": \"int\"\n",
    "            },\n",
    "            {\n",
    "                \"Name\": \"hour\",\n",
    "                \"Type\": \"int\"\n",
    "            },\n",
    "            {\n",
    "                \"Name\": \"minute\",\n",
    "                \"Type\": \"int\"\n",
    "            }\n",
    "        ]\n",
    "    }\n",
    ")\n",
    "```"
   ]
  }
 ],
 "metadata": {
  "kernelspec": {
   "display_name": "aws",
   "language": "python",
   "name": "python3"
  },
  "language_info": {
   "codemirror_mode": {
    "name": "ipython",
    "version": 3
   },
   "file_extension": ".py",
   "mimetype": "text/x-python",
   "name": "python",
   "nbconvert_exporter": "python",
   "pygments_lexer": "ipython3",
   "version": "3.9.7"
  },
  "orig_nbformat": 4
 },
 "nbformat": 4,
 "nbformat_minor": 2
}
