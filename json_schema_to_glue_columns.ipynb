{
 "cells": [
  {
   "cell_type": "code",
   "execution_count": 1,
   "metadata": {},
   "outputs": [],
   "source": [
    "from json_schema_to_glue_columns import *"
   ]
  },
  {
   "cell_type": "code",
   "execution_count": 2,
   "metadata": {},
   "outputs": [],
   "source": [
    "glue_data_formats_mapping ={\n",
    "    \"csv\": {\n",
    "        \"input_format\": \"org.apache.hadoop.mapred.TextInputFormat\",\n",
    "        \"output_format\": \"org.apache.hadoop.hive.ql.io.HivelgnoreKeyTextOutputFormat\",\n",
    "        \"serde_info\": {\n",
    "            \"SerializationLibrary\": \"org.apache.hadoop.hive.serde2.OpenCSVSerde\",\n",
    "            \"Parameters\": {\n",
    "                \"separatorChar\": \",\"\n",
    "            }\n",
    "        },\n",
    "        \"parameters\": {\n",
    "            \"classification\": \"csv\"\n",
    "        }\n",
    "    },\n",
    "    \"json\": {\n",
    "        \"input_format\": \"org.apache.hadoop.mapred.TextInputFormat\",\n",
    "        \"output_format\": \"org.apache.hadoop.hive.qlio.HivelgnoreKeyTextOutputFormat\",\n",
    "        \"serde_info\": {\n",
    "            \"SerializationLibrary\": \"org.openx.data.jsonserde.JsonSerDe\"\n",
    "        },\n",
    "        \"parameters\": {\n",
    "            \"classification\": \"json\"\n",
    "        }\n",
    "    },\n",
    "    \"parquet\": {\n",
    "        \"input_format\": \"org.apache.hadoop.hive.ql.io.parquet.MapredParquetInputFormat\",\n",
    "        \"output_format\": \"org.apache.hadoop.hive.ql.io.parquet.MapredParquetOutputFormat\",\n",
    "        \"serde_info\": {\n",
    "            \"SerializationLibrary\": \"org.apache.hadoop.hive.ql.io.parquet.serde.ParquetHiveSerDe\",\n",
    "            \"Parameters\": {\n",
    "                \"serialization.format\": \"1\"\n",
    "            }\n",
    "        },\n",
    "        \"parameters\": {\n",
    "            \"classification\": \"parquet\"\n",
    "        }\n",
    "    }\n",
    "}"
   ]
  },
  {
   "cell_type": "code",
   "execution_count": 3,
   "metadata": {},
   "outputs": [],
   "source": [
    "schema_file_location = \"./sample1.schema.json\"\n",
    "config_file_location = \"./sample1.config.yml\""
   ]
  },
  {
   "cell_type": "code",
   "execution_count": 4,
   "metadata": {},
   "outputs": [
    {
     "data": {
      "text/plain": [
       "{'title': 'Root Schema',\n",
       " 'type': 'object',\n",
       " 'default': {},\n",
       " 'required': ['id', 'isbn', 'author', 'editor', 'title', 'category', 'tags'],\n",
       " 'additionalProperties': True,\n",
       " 'properties': {'ID': {'title': 'The id Schema',\n",
       "   'type': 'number',\n",
       "   'default': 0,\n",
       "   'examples': [1]},\n",
       "  'isbn': {'title': 'The isbn Schema',\n",
       "   'type': 'string',\n",
       "   'default': '',\n",
       "   'examples': ['123-456-222']},\n",
       "  'author': {'title': 'The author Schema',\n",
       "   'type': 'object',\n",
       "   'default': {},\n",
       "   'required': ['lastname', 'firstname'],\n",
       "   'additionalProperties': True,\n",
       "   'properties': {'last name': {'title': 'The lastname Schema',\n",
       "     'type': 'string',\n",
       "     'default': '',\n",
       "     'examples': ['Doe']},\n",
       "    'first-name': {'title': 'The firstname Schema',\n",
       "     'type': 'string',\n",
       "     'default': '',\n",
       "     'examples': ['Jane']}},\n",
       "   'examples': [{'lastname': 'Doe', 'firstname': 'Jane'}]},\n",
       "  'editor': {'title': 'The editor Schema',\n",
       "   'type': 'object',\n",
       "   'default': {},\n",
       "   'required': ['lastname', 'firstname'],\n",
       "   'additionalProperties': True,\n",
       "   'properties': {'last name': {'title': 'The lastname Schema',\n",
       "     'type': 'string',\n",
       "     'default': '',\n",
       "     'examples': ['Smith']},\n",
       "    'first-name': {'title': 'The firstname Schema',\n",
       "     'type': 'string',\n",
       "     'default': '',\n",
       "     'examples': ['Jane']}},\n",
       "   'examples': [{'lastname': 'Smith', 'firstname': 'Jane'}]},\n",
       "  'title': {'title': 'The title Schema',\n",
       "   'type': 'string',\n",
       "   'default': '',\n",
       "   'examples': ['The Ultimate Database Study Guide']},\n",
       "  'category': {'title': 'The category Schema',\n",
       "   'type': 'array',\n",
       "   'default': [],\n",
       "   'additionalItems': True,\n",
       "   'items': {'title': 'A Schema',\n",
       "    'type': 'string',\n",
       "    'examples': ['Non-Fiction', 'Technology']},\n",
       "   'examples': [['Non-Fiction', 'Technology']]},\n",
       "  'tags': {'title': 'The tags Schema',\n",
       "   'type': 'array',\n",
       "   'default': [],\n",
       "   'additionalItems': True,\n",
       "   'items': {'title': 'A Schema',\n",
       "    'type': 'object',\n",
       "    'required': ['key', 'value'],\n",
       "    'additionalProperties': True,\n",
       "    'properties': {'key': {'title': 'The key Schema',\n",
       "      'type': 'string',\n",
       "      'examples': ['Title', 'ISBN']},\n",
       "     'value': {'title': 'The value Schema',\n",
       "      'type': 'string',\n",
       "      'examples': ['The Ultimate Database Study Guide', '123-456-222']}},\n",
       "    'examples': [{'key': 'Title',\n",
       "      'value': 'The Ultimate Database Study Guide'},\n",
       "     {'key': 'ISBN', 'value': '123-456-222'}]},\n",
       "   'examples': [[{'key': 'Title',\n",
       "      'value': 'The Ultimate Database Study Guide'},\n",
       "     {'key': 'ISBN', 'value': '123-456-222'}]]}},\n",
       " 'examples': [{'id': 1,\n",
       "   'isbn': '123-456-222',\n",
       "   'author': {'lastname': 'Doe', 'firstname': 'Jane'},\n",
       "   'editor': {'lastname': 'Smith', 'firstname': 'Jane'},\n",
       "   'title': 'The Ultimate Database Study Guide',\n",
       "   'category': ['Non-Fiction', 'Technology'],\n",
       "   'tags': [{'key': 'Title', 'value': 'The Ultimate Database Study Guide'},\n",
       "    {'key': 'ISBN', 'value': '123-456-222'}]}]}"
      ]
     },
     "execution_count": 4,
     "metadata": {},
     "output_type": "execute_result"
    }
   ],
   "source": [
    "schema = load_json_schema(schema_file_location)\n",
    "schema"
   ]
  },
  {
   "cell_type": "code",
   "execution_count": 5,
   "metadata": {},
   "outputs": [
    {
     "data": {
      "text/plain": [
       "{'data_format': 'json',\n",
       " 'pipeline_type': 'SCD1',\n",
       " 'storage_zones': {'raw': {'database': 'abc_source_raw',\n",
       "   'table': 'sample',\n",
       "   's3_location': 's3://org-dev-abc-raw/prefix'},\n",
       "  'staging': {'database': 'abc_source_staging',\n",
       "   'table': 'sample',\n",
       "   's3_location': 's3://org-dev-abc-staging/prefix'}}}"
      ]
     },
     "execution_count": 5,
     "metadata": {},
     "output_type": "execute_result"
    }
   ],
   "source": [
    "placeholders = {\n",
    "    \"[aws_env]\": \"dev\",\n",
    "    \"[logical_env]\": \"abc\"\n",
    "}\n",
    "\n",
    "config = load_yaml_config(config_file_location, placeholders)\n",
    "config"
   ]
  },
  {
   "cell_type": "code",
   "execution_count": 6,
   "metadata": {},
   "outputs": [
    {
     "data": {
      "text/plain": [
       "[{'Name': 'year', 'Type': 'int'},\n",
       " {'Name': 'month', 'Type': 'int'},\n",
       " {'Name': 'day', 'Type': 'int'},\n",
       " {'Name': 'hour', 'Type': 'int'},\n",
       " {'Name': 'minute', 'Type': 'int'}]"
      ]
     },
     "execution_count": 6,
     "metadata": {},
     "output_type": "execute_result"
    }
   ],
   "source": [
    "partition_key_list = [\"year:int\", \"month:int\", \"day:int\", \"hour:int\", \"minute:int\"]\n",
    "partition_keys = create_partition_keys(partition_key_list)\n",
    "partition_keys"
   ]
  },
  {
   "cell_type": "code",
   "execution_count": 7,
   "metadata": {},
   "outputs": [
    {
     "data": {
      "text/plain": [
       "[{'Name': 'id', 'Type': 'DOUBLE'},\n",
       " {'Name': 'isbn', 'Type': 'STRING'},\n",
       " {'Name': 'author', 'Type': 'STRUCT<last_name:STRING,first_name:STRING>'},\n",
       " {'Name': 'editor', 'Type': 'STRUCT<last_name:STRING,first_name:STRING>'},\n",
       " {'Name': 'title', 'Type': 'STRING'},\n",
       " {'Name': 'category', 'Type': 'ARRAY<STRING>'},\n",
       " {'Name': 'tags', 'Type': 'ARRAY<STRUCT<key:STRING,value:STRING>>'}]"
      ]
     },
     "execution_count": 7,
     "metadata": {},
     "output_type": "execute_result"
    }
   ],
   "source": [
    "raw_glue_columns = convert_json_schema_to_glue_columns(schema)\n",
    "raw_glue_columns"
   ]
  },
  {
   "cell_type": "code",
   "execution_count": 8,
   "metadata": {},
   "outputs": [],
   "source": [
    "raw_zone_config = config[\"storage_zones\"][\"raw\"]\n",
    "\n",
    "raw_database = raw_zone_config[\"database\"]\n",
    "raw_table = raw_zone_config[\"table\"]\n",
    "raw_s3_location = raw_zone_config[\"s3_location\"]\n",
    "\n",
    "raw_glue_data_formats = glue_data_formats_mapping[config[\"data_format\"].lower()]\n",
    "\n",
    "raw_input_format = raw_glue_data_formats[\"input_format\"]\n",
    "raw_output_format = raw_glue_data_formats[\"output_format\"]\n",
    "raw_serde_info = raw_glue_data_formats[\"serde_info\"]\n",
    "raw_parameters = raw_glue_data_formats[\"parameters\"]"
   ]
  },
  {
   "cell_type": "code",
   "execution_count": 9,
   "metadata": {},
   "outputs": [],
   "source": [
    "raw_table_manager = GlueTableManager(\n",
    "    table_type='EXTERNAL_TABLE',\n",
    "    description='This is a sample table',\n",
    "    database_name=raw_database,\n",
    "    table_name=raw_table,\n",
    "    columns=raw_glue_columns,\n",
    "    location=raw_s3_location,\n",
    "    input_format=raw_input_format,\n",
    "    output_format=raw_output_format,\n",
    "    serde_info=raw_serde_info,\n",
    "    partition_keys=partition_keys, \n",
    "    parameters=raw_parameters\n",
    ")"
   ]
  },
  {
   "cell_type": "code",
   "execution_count": 10,
   "metadata": {},
   "outputs": [
    {
     "data": {
      "text/plain": [
       "{'ResponseMetadata': {'RequestId': 'bbdaad04-0ca1-4657-b618-f25bf71152a8',\n",
       "  'HTTPStatusCode': 200,\n",
       "  'HTTPHeaders': {'date': 'Wed, 07 Jun 2023 10:02:42 GMT',\n",
       "   'content-type': 'application/x-amz-json-1.1',\n",
       "   'content-length': '2',\n",
       "   'connection': 'keep-alive',\n",
       "   'x-amzn-requestid': 'bbdaad04-0ca1-4657-b618-f25bf71152a8'},\n",
       "  'RetryAttempts': 0}}"
      ]
     },
     "execution_count": 10,
     "metadata": {},
     "output_type": "execute_result"
    }
   ],
   "source": [
    "raw_table_manager.create_or_update_table()"
   ]
  },
  {
   "cell_type": "code",
   "execution_count": 11,
   "metadata": {},
   "outputs": [
    {
     "data": {
      "text/plain": [
       "[{'Name': 'id', 'Type': 'DOUBLE'},\n",
       " {'Name': 'isbn', 'Type': 'STRING'},\n",
       " {'Name': 'author__last_name', 'Type': 'STRING'},\n",
       " {'Name': 'author__first_name', 'Type': 'STRING'},\n",
       " {'Name': 'editor__last_name', 'Type': 'STRING'},\n",
       " {'Name': 'editor__first_name', 'Type': 'STRING'},\n",
       " {'Name': 'title', 'Type': 'STRING'},\n",
       " {'Name': 'category', 'Type': 'ARRAY<STRING>'},\n",
       " {'Name': 'tags', 'Type': 'ARRAY<STRUCT<key:STRING,value:STRING>>'}]"
      ]
     },
     "execution_count": 11,
     "metadata": {},
     "output_type": "execute_result"
    }
   ],
   "source": [
    "staging_glue_columns = convert_json_schema_to_glue_columns(schema, flatten=True, delimiter='__')\n",
    "staging_glue_columns"
   ]
  },
  {
   "cell_type": "code",
   "execution_count": 12,
   "metadata": {},
   "outputs": [
    {
     "data": {
      "text/plain": [
       "[{'Name': 'id', 'Type': 'DOUBLE'},\n",
       " {'Name': 'isbn', 'Type': 'STRING'},\n",
       " {'Name': 'author__last_name', 'Type': 'STRING'},\n",
       " {'Name': 'author__first_name', 'Type': 'STRING'},\n",
       " {'Name': 'editor__last_name', 'Type': 'STRING'},\n",
       " {'Name': 'editor__first_name', 'Type': 'STRING'},\n",
       " {'Name': 'title', 'Type': 'STRING'},\n",
       " {'Name': 'category', 'Type': 'ARRAY<STRING>'},\n",
       " {'Name': 'tags', 'Type': 'ARRAY<STRUCT<key:STRING,value:STRING>>'},\n",
       " {'Name': 'last_updated', 'Type': 'STRING'}]"
      ]
     },
     "execution_count": 12,
     "metadata": {},
     "output_type": "execute_result"
    }
   ],
   "source": [
    "pipeline_type = config[\"pipeline_type\"]\n",
    "additional_columns = get_additional_columns(pipeline_type)\n",
    "staging_glue_columns+=additional_columns\n",
    "staging_glue_columns"
   ]
  },
  {
   "cell_type": "code",
   "execution_count": 13,
   "metadata": {},
   "outputs": [],
   "source": [
    "staging_zone_config = config[\"storage_zones\"][\"staging\"]\n",
    "\n",
    "staging_database = staging_zone_config[\"database\"]\n",
    "staging_table = staging_zone_config[\"table\"]\n",
    "staging_s3_location = staging_zone_config[\"s3_location\"]\n",
    "\n",
    "staging_glue_data_formats = glue_data_formats_mapping[\"parquet\"]\n",
    "\n",
    "staging_input_format = staging_glue_data_formats[\"input_format\"]\n",
    "staging_output_format = staging_glue_data_formats[\"output_format\"]\n",
    "staging_serde_info = staging_glue_data_formats[\"serde_info\"]\n",
    "staging_parameters = staging_glue_data_formats[\"parameters\"]"
   ]
  },
  {
   "cell_type": "code",
   "execution_count": 14,
   "metadata": {},
   "outputs": [],
   "source": [
    "staging_table_manager = GlueTableManager(\n",
    "    table_type='EXTERNAL_TABLE',\n",
    "    description='This is a sample table',\n",
    "    database_name=staging_database,\n",
    "    table_name=staging_table,\n",
    "    columns=staging_glue_columns,\n",
    "    location=staging_s3_location,\n",
    "    input_format=staging_input_format,\n",
    "    output_format=staging_output_format,\n",
    "    serde_info=staging_serde_info,\n",
    "    partition_keys=partition_keys, \n",
    "    parameters=staging_parameters\n",
    ")"
   ]
  },
  {
   "cell_type": "code",
   "execution_count": 15,
   "metadata": {},
   "outputs": [
    {
     "data": {
      "text/plain": [
       "{'ResponseMetadata': {'RequestId': '97ce08af-fbe0-426b-bb51-b924a3176a2f',\n",
       "  'HTTPStatusCode': 200,\n",
       "  'HTTPHeaders': {'date': 'Wed, 07 Jun 2023 10:02:46 GMT',\n",
       "   'content-type': 'application/x-amz-json-1.1',\n",
       "   'content-length': '2',\n",
       "   'connection': 'keep-alive',\n",
       "   'x-amzn-requestid': '97ce08af-fbe0-426b-bb51-b924a3176a2f'},\n",
       "  'RetryAttempts': 0}}"
      ]
     },
     "execution_count": 15,
     "metadata": {},
     "output_type": "execute_result"
    }
   ],
   "source": [
    "staging_table_manager.create_or_update_table()"
   ]
  }
 ],
 "metadata": {
  "kernelspec": {
   "display_name": "aws",
   "language": "python",
   "name": "python3"
  },
  "language_info": {
   "codemirror_mode": {
    "name": "ipython",
    "version": 3
   },
   "file_extension": ".py",
   "mimetype": "text/x-python",
   "name": "python",
   "nbconvert_exporter": "python",
   "pygments_lexer": "ipython3",
   "version": "3.9.7"
  },
  "orig_nbformat": 4
 },
 "nbformat": 4,
 "nbformat_minor": 2
}
