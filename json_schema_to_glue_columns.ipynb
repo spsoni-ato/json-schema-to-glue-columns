{
 "cells": [
  {
   "cell_type": "code",
   "execution_count": 1,
   "metadata": {},
   "outputs": [],
   "source": [
    "import json\n",
    "from json_schema_to_glue_columns import *"
   ]
  },
  {
   "cell_type": "code",
   "execution_count": 2,
   "metadata": {},
   "outputs": [],
   "source": [
    "schema_location_1 = \"./sample1.schema.json\"\n",
    "schema_location_2 = \"./sample2.schema.json\"\n",
    "schema_location_3 = \"./sample3.schema.json\""
   ]
  },
  {
   "cell_type": "code",
   "execution_count": 3,
   "metadata": {},
   "outputs": [],
   "source": [
    "with open(schema_location_1) as schema_file_1:\n",
    "    schema_1 = json.load(schema_file_1)\n",
    "\n",
    "with open(schema_location_2) as schema_file_2:\n",
    "    schema_2 = json.load(schema_file_2)\n",
    "\n",
    "with open(schema_location_3) as schema_file_3:\n",
    "    schema_3 = json.load(schema_file_3)"
   ]
  },
  {
   "cell_type": "code",
   "execution_count": 4,
   "metadata": {},
   "outputs": [
    {
     "data": {
      "text/plain": [
       "[{'Name': 'id', 'Type': 'DOUBLE'},\n",
       " {'Name': 'isbn', 'Type': 'STRING'},\n",
       " {'Name': 'author', 'Type': 'STRUCT<lastname:STRING,firstname:STRING>'},\n",
       " {'Name': 'editor', 'Type': 'STRUCT<lastname:STRING,firstname:STRING>'},\n",
       " {'Name': 'title', 'Type': 'STRING'},\n",
       " {'Name': 'category', 'Type': 'ARRAY<STRING>'},\n",
       " {'Name': 'tags', 'Type': 'ARRAY<STRUCT<key:STRING,value:STRING>>'}]"
      ]
     },
     "execution_count": 4,
     "metadata": {},
     "output_type": "execute_result"
    }
   ],
   "source": [
    "convert_json_schema_to_glue_columns(schema_1)"
   ]
  },
  {
   "cell_type": "code",
   "execution_count": 5,
   "metadata": {},
   "outputs": [
    {
     "data": {
      "text/plain": [
       "[{'Name': 'a', 'Type': 'STRING'},\n",
       " {'Name': 'b', 'Type': 'BIGINT'},\n",
       " {'Name': 'c', 'Type': 'DOUBLE'},\n",
       " {'Name': 'd', 'Type': 'BOOLEAN'},\n",
       " {'Name': 'e', 'Type': 'ARRAY<BIGINT>'},\n",
       " {'Name': 'f',\n",
       "  'Type': 'STRUCT<fa:STRING,fb:BIGINT,fc:DOUBLE,fd:BOOLEAN,fe:ARRAY<STRING>,ff:STRUCT<ffa:ARRAY<STRUCT<fffa:BIGINT,fffb:STRING>>>>'},\n",
       " {'Name': 'g', 'Type': 'ARRAY<STRUCT<ga:BIGINT,gb:ARRAY<BIGINT>>>'}]"
      ]
     },
     "execution_count": 5,
     "metadata": {},
     "output_type": "execute_result"
    }
   ],
   "source": [
    "convert_json_schema_to_glue_columns(schema_2)"
   ]
  },
  {
   "cell_type": "code",
   "execution_count": 6,
   "metadata": {},
   "outputs": [
    {
     "ename": "Exception",
     "evalue": "Empty arrays are not allowed in Glue",
     "output_type": "error",
     "traceback": [
      "\u001b[0;31m---------------------------------------------------------------------------\u001b[0m",
      "\u001b[0;31mException\u001b[0m                                 Traceback (most recent call last)",
      "Cell \u001b[0;32mIn[6], line 1\u001b[0m\n\u001b[0;32m----> 1\u001b[0m convert_json_schema_to_glue_columns(schema_3)\n",
      "File \u001b[0;32m~/Desktop/schema_upload/json_schema_to_glue_columns.py:63\u001b[0m, in \u001b[0;36mconvert_json_schema_to_glue_columns\u001b[0;34m(json_schema)\u001b[0m\n\u001b[1;32m     59\u001b[0m \u001b[39m# Convert each property of the JSON schema to a Glue column\u001b[39;00m\n\u001b[1;32m     60\u001b[0m \u001b[39mfor\u001b[39;00m key, value \u001b[39min\u001b[39;00m json_schema[\u001b[39m\"\u001b[39m\u001b[39mproperties\u001b[39m\u001b[39m\"\u001b[39m]\u001b[39m.\u001b[39mitems():\n\u001b[1;32m     61\u001b[0m     column \u001b[39m=\u001b[39m {\n\u001b[1;32m     62\u001b[0m         \u001b[39m\"\u001b[39m\u001b[39mName\u001b[39m\u001b[39m\"\u001b[39m: key,\n\u001b[0;32m---> 63\u001b[0m         \u001b[39m\"\u001b[39m\u001b[39mType\u001b[39m\u001b[39m\"\u001b[39m: glue_column_type_from_json_schema(value)\n\u001b[1;32m     64\u001b[0m     }\n\u001b[1;32m     66\u001b[0m     columns\u001b[39m.\u001b[39mappend(column)\n\u001b[1;32m     68\u001b[0m \u001b[39mreturn\u001b[39;00m columns\n",
      "File \u001b[0;32m~/Desktop/schema_upload/json_schema_to_glue_columns.py:38\u001b[0m, in \u001b[0;36mglue_column_type_from_json_schema\u001b[0;34m(value)\u001b[0m\n\u001b[1;32m     35\u001b[0m items \u001b[39m=\u001b[39m value[\u001b[39m\"\u001b[39m\u001b[39mitems\u001b[39m\u001b[39m\"\u001b[39m]\n\u001b[1;32m     37\u001b[0m \u001b[39mif\u001b[39;00m \u001b[39mlen\u001b[39m(items) \u001b[39m==\u001b[39m \u001b[39m0\u001b[39m:\n\u001b[0;32m---> 38\u001b[0m     \u001b[39mraise\u001b[39;00m \u001b[39mException\u001b[39;00m(\u001b[39m\"\u001b[39m\u001b[39mEmpty arrays are not allowed in Glue\u001b[39m\u001b[39m\"\u001b[39m)\n\u001b[1;32m     40\u001b[0m \u001b[39mif\u001b[39;00m items[\u001b[39m\"\u001b[39m\u001b[39mtype\u001b[39m\u001b[39m\"\u001b[39m] \u001b[39m==\u001b[39m \u001b[39m\"\u001b[39m\u001b[39marray\u001b[39m\u001b[39m\"\u001b[39m:\n\u001b[1;32m     41\u001b[0m     \u001b[39mreturn\u001b[39;00m \u001b[39mf\u001b[39m\u001b[39m\"\u001b[39m\u001b[39mARRAY<\u001b[39m\u001b[39m{\u001b[39;00mglue_column_type_from_json_schema(items)\u001b[39m}\u001b[39;00m\u001b[39m>[]\u001b[39m\u001b[39m\"\u001b[39m\n",
      "\u001b[0;31mException\u001b[0m: Empty arrays are not allowed in Glue"
     ]
    }
   ],
   "source": [
    "convert_json_schema_to_glue_columns(schema_3)"
   ]
  },
  {
   "cell_type": "code",
   "execution_count": null,
   "metadata": {},
   "outputs": [],
   "source": []
  }
 ],
 "metadata": {
  "kernelspec": {
   "display_name": "aws",
   "language": "python",
   "name": "python3"
  },
  "language_info": {
   "codemirror_mode": {
    "name": "ipython",
    "version": 3
   },
   "file_extension": ".py",
   "mimetype": "text/x-python",
   "name": "python",
   "nbconvert_exporter": "python",
   "pygments_lexer": "ipython3",
   "version": "3.9.7"
  },
  "orig_nbformat": 4
 },
 "nbformat": 4,
 "nbformat_minor": 2
}
